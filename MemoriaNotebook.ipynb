{
 "cells": [
  {
   "cell_type": "markdown",
   "metadata": {
    "collapsed": true,
    "pycharm": {
     "name": "#%% md\n"
    }
   },
   "source": [
    "# Memoria y Analisis de algoritmos diferenciales\n"
   ]
  },
  {
   "cell_type": "markdown",
   "source": [
    "## 1: Algoritmos usados\n",
    "\n",
    "  Se han usado implementaciones del algoritmo de evolucion diferencial\n",
    "  con la configuracion rand y cruce exponencial. Una de las implementaciones es nuestra, mientras que la\n",
    "  otra se extrae de la libreria scipy.optimization\n"
   ],
   "metadata": {
    "collapsed": false
   }
  },
  {
   "cell_type": "code",
   "source": [
    "import scipy.optimize\n",
    "import numpy\n",
    "#tambien hay que importar las funciones de benchmark\n",
    "from benchmarks import functions\n",
    "import pandas\n",
    "\n",
    "%pylab inline\n",
    "import seaborn as sns\n",
    "import pandas as pd\n",
    "pd.set_option('precision', 5)"
   ],
   "metadata": {
    "collapsed": false,
    "pycharm": {
     "name": "#%%\n"
    }
   },
   "execution_count": 1,
   "outputs": []
  },
  {
   "cell_type": "markdown",
   "source": [
    "\n",
    "A continuacion se detallan las evaluaciones conseguidas con los algoritmos empleados\n",
    "Siempre el 1 va ser el nuestro mientras que el 2 será el externo\n",
    "\n",
    "\n",
    "| Funcion | Medida | Algoritmo1 | Algoritmo2 |\n",
    "| --- | --- | --- | --- |\n",
    "| Sphere | Media | .843 |   |"
   ],
   "metadata": {
    "collapsed": false
   }
  }
 ],
 "metadata": {
  "kernelspec": {
   "display_name": "Python 3",
   "language": "python",
   "name": "python3"
  },
  "language_info": {
   "codemirror_mode": {
    "name": "ipython",
    "version": 2
   },
   "file_extension": ".py",
   "mimetype": "text/x-python",
   "name": "python",
   "nbconvert_exporter": "python",
   "pygments_lexer": "ipython2",
   "version": "2.7.6"
  }
 },
 "nbformat": 4,
 "nbformat_minor": 0
}